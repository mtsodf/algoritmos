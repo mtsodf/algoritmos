{
 "cells": [
  {
   "cell_type": "code",
   "execution_count": 1,
   "metadata": {},
   "outputs": [],
   "source": [
    "import math\n",
    "from math import sqrt\n",
    "\n",
    "import numpy as np\n",
    "import seaborn as sns\n",
    "import pandas as pd\n",
    "import matplotlib as mpl\n",
    "import matplotlib.pyplot as plt\n",
    "import json\n",
    "import pathlib\n",
    "import tikzplotlib\n",
    "from collections import defaultdict\n"
   ]
  },
  {
   "cell_type": "code",
   "execution_count": 3,
   "metadata": {},
   "outputs": [
    {
     "name": "stdout",
     "output_type": "stream",
     "text": [
      "\\documentclass{standalone}\n",
      "\\usepackage[utf8]{inputenc}\n",
      "\\usepackage{pgfplots}\n",
      "\\DeclareUnicodeCharacter{2212}{−}\n",
      "\\usepgfplotslibrary{groupplots,dateplot}\n",
      "\\usetikzlibrary{patterns,shapes.arrows}\n",
      "\\pgfplotsset{compat=newest}\n",
      "\n"
     ]
    }
   ],
   "source": [
    "print(tikzplotlib.Flavors.latex.preamble())"
   ]
  },
  {
   "cell_type": "code",
   "execution_count": 4,
   "metadata": {},
   "outputs": [],
   "source": [
    "# mpl.use(\"pgf\")\n",
    "# mpl.rcParams.update({\n",
    "    # \"pgf.texsystem\": \"pdflatex\",\n",
    "    # 'font.family': 'serif',\n",
    "    # 'text.usetex': True,\n",
    "    # 'pgf.rcfonts': False,\n",
    "# })"
   ]
  },
  {
   "cell_type": "code",
   "execution_count": 3,
   "metadata": {},
   "outputs": [],
   "source": [
    "def read_jsons():\n",
    "\n",
    "    data = []\n",
    "    # Read jsons files of build/semana03/circles with pathlib\n",
    "    jsons = list(pathlib.Path(\"../build/semana06/experiments/\").glob(\"*.json\"))\n",
    "    jsons.sort()\n",
    "    print(jsons)\n",
    "    \n",
    "    for json_file in jsons:\n",
    "        with open(json_file, \"r\") as f:\n",
    "            json_values = json.load(f)\n",
    "            data.append(json_values)\n",
    "\n",
    "\n",
    "    return pd.DataFrame(data)\n",
    "\n"
   ]
  },
  {
   "cell_type": "code",
   "execution_count": 7,
   "metadata": {},
   "outputs": [
    {
     "name": "stdout",
     "output_type": "stream",
     "text": [
      "[PosixPath('../build/semana06/experiments/random_binary_tree_0.1_0.01_1000000_1.json'), PosixPath('../build/semana06/experiments/random_binary_tree_0.1_0.01_1000000_2.json'), PosixPath('../build/semana06/experiments/random_binary_tree_0.1_0.01_1000000_3.json'), PosixPath('../build/semana06/experiments/random_binary_tree_0.1_0.01_1000000_4.json'), PosixPath('../build/semana06/experiments/random_binary_tree_0.1_0.01_1000000_5.json'), PosixPath('../build/semana06/experiments/random_binary_tree_0.1_0.01_100000_1.json'), PosixPath('../build/semana06/experiments/random_binary_tree_0.1_0.01_100000_2.json'), PosixPath('../build/semana06/experiments/random_binary_tree_0.1_0.01_100000_3.json'), PosixPath('../build/semana06/experiments/random_binary_tree_0.1_0.01_100000_4.json'), PosixPath('../build/semana06/experiments/random_binary_tree_0.1_0.01_100000_5.json'), PosixPath('../build/semana06/experiments/random_binary_tree_0.1_0.01_10000_1.json'), PosixPath('../build/semana06/experiments/random_binary_tree_0.1_0.01_10000_2.json'), PosixPath('../build/semana06/experiments/random_binary_tree_0.1_0.01_10000_3.json'), PosixPath('../build/semana06/experiments/random_binary_tree_0.1_0.01_10000_4.json'), PosixPath('../build/semana06/experiments/random_binary_tree_0.1_0.01_10000_5.json'), PosixPath('../build/semana06/experiments/random_binary_tree_0.1_0.01_1000_1.json'), PosixPath('../build/semana06/experiments/random_binary_tree_0.1_0.01_1000_2.json'), PosixPath('../build/semana06/experiments/random_binary_tree_0.1_0.01_1000_3.json'), PosixPath('../build/semana06/experiments/random_binary_tree_0.1_0.01_1000_4.json'), PosixPath('../build/semana06/experiments/random_binary_tree_0.1_0.01_1000_5.json'), PosixPath('../build/semana06/experiments/random_binary_tree_0.1_0.01_100_1.json'), PosixPath('../build/semana06/experiments/random_binary_tree_0.1_0.01_100_2.json'), PosixPath('../build/semana06/experiments/random_binary_tree_0.1_0.01_100_3.json'), PosixPath('../build/semana06/experiments/random_binary_tree_0.1_0.01_100_4.json'), PosixPath('../build/semana06/experiments/random_binary_tree_0.1_0.01_100_5.json'), PosixPath('../build/semana06/experiments/random_binary_tree_0.1_0.01_10_1.json'), PosixPath('../build/semana06/experiments/random_binary_tree_0.1_0.01_10_2.json'), PosixPath('../build/semana06/experiments/random_binary_tree_0.1_0.01_10_3.json'), PosixPath('../build/semana06/experiments/random_binary_tree_0.1_0.01_10_4.json'), PosixPath('../build/semana06/experiments/random_binary_tree_0.1_0.01_10_5.json'), PosixPath('../build/semana06/experiments/random_list_0.1_0.01_1000000_1.json'), PosixPath('../build/semana06/experiments/random_list_0.1_0.01_1000000_2.json'), PosixPath('../build/semana06/experiments/random_list_0.1_0.01_1000000_3.json'), PosixPath('../build/semana06/experiments/random_list_0.1_0.01_1000000_4.json'), PosixPath('../build/semana06/experiments/random_list_0.1_0.01_1000000_5.json'), PosixPath('../build/semana06/experiments/random_list_0.1_0.01_100000_1.json'), PosixPath('../build/semana06/experiments/random_list_0.1_0.01_100000_2.json'), PosixPath('../build/semana06/experiments/random_list_0.1_0.01_100000_3.json'), PosixPath('../build/semana06/experiments/random_list_0.1_0.01_100000_4.json'), PosixPath('../build/semana06/experiments/random_list_0.1_0.01_100000_5.json'), PosixPath('../build/semana06/experiments/random_list_0.1_0.01_10000_1.json'), PosixPath('../build/semana06/experiments/random_list_0.1_0.01_10000_2.json'), PosixPath('../build/semana06/experiments/random_list_0.1_0.01_10000_3.json'), PosixPath('../build/semana06/experiments/random_list_0.1_0.01_10000_4.json'), PosixPath('../build/semana06/experiments/random_list_0.1_0.01_10000_5.json'), PosixPath('../build/semana06/experiments/random_list_0.1_0.01_1000_1.json'), PosixPath('../build/semana06/experiments/random_list_0.1_0.01_1000_2.json'), PosixPath('../build/semana06/experiments/random_list_0.1_0.01_1000_3.json'), PosixPath('../build/semana06/experiments/random_list_0.1_0.01_1000_4.json'), PosixPath('../build/semana06/experiments/random_list_0.1_0.01_1000_5.json'), PosixPath('../build/semana06/experiments/random_list_0.1_0.01_100_1.json'), PosixPath('../build/semana06/experiments/random_list_0.1_0.01_100_2.json'), PosixPath('../build/semana06/experiments/random_list_0.1_0.01_100_3.json'), PosixPath('../build/semana06/experiments/random_list_0.1_0.01_100_4.json'), PosixPath('../build/semana06/experiments/random_list_0.1_0.01_100_5.json'), PosixPath('../build/semana06/experiments/random_list_0.1_0.01_10_1.json'), PosixPath('../build/semana06/experiments/random_list_0.1_0.01_10_2.json'), PosixPath('../build/semana06/experiments/random_list_0.1_0.01_10_3.json'), PosixPath('../build/semana06/experiments/random_list_0.1_0.01_10_4.json'), PosixPath('../build/semana06/experiments/random_list_0.1_0.01_10_5.json'), PosixPath('../build/semana06/experiments/random_unordered_list_0.1_0.01_1000000_1.json'), PosixPath('../build/semana06/experiments/random_unordered_list_0.1_0.01_1000000_2.json'), PosixPath('../build/semana06/experiments/random_unordered_list_0.1_0.01_1000000_3.json'), PosixPath('../build/semana06/experiments/random_unordered_list_0.1_0.01_1000000_4.json'), PosixPath('../build/semana06/experiments/random_unordered_list_0.1_0.01_1000000_5.json'), PosixPath('../build/semana06/experiments/random_unordered_list_0.1_0.01_100000_1.json'), PosixPath('../build/semana06/experiments/random_unordered_list_0.1_0.01_100000_2.json'), PosixPath('../build/semana06/experiments/random_unordered_list_0.1_0.01_100000_3.json'), PosixPath('../build/semana06/experiments/random_unordered_list_0.1_0.01_100000_4.json'), PosixPath('../build/semana06/experiments/random_unordered_list_0.1_0.01_100000_5.json'), PosixPath('../build/semana06/experiments/random_unordered_list_0.1_0.01_10000_1.json'), PosixPath('../build/semana06/experiments/random_unordered_list_0.1_0.01_10000_2.json'), PosixPath('../build/semana06/experiments/random_unordered_list_0.1_0.01_10000_3.json'), PosixPath('../build/semana06/experiments/random_unordered_list_0.1_0.01_10000_4.json'), PosixPath('../build/semana06/experiments/random_unordered_list_0.1_0.01_10000_5.json'), PosixPath('../build/semana06/experiments/random_unordered_list_0.1_0.01_1000_1.json'), PosixPath('../build/semana06/experiments/random_unordered_list_0.1_0.01_1000_2.json'), PosixPath('../build/semana06/experiments/random_unordered_list_0.1_0.01_1000_3.json'), PosixPath('../build/semana06/experiments/random_unordered_list_0.1_0.01_1000_4.json'), PosixPath('../build/semana06/experiments/random_unordered_list_0.1_0.01_1000_5.json'), PosixPath('../build/semana06/experiments/random_unordered_list_0.1_0.01_100_1.json'), PosixPath('../build/semana06/experiments/random_unordered_list_0.1_0.01_100_2.json'), PosixPath('../build/semana06/experiments/random_unordered_list_0.1_0.01_100_3.json'), PosixPath('../build/semana06/experiments/random_unordered_list_0.1_0.01_100_4.json'), PosixPath('../build/semana06/experiments/random_unordered_list_0.1_0.01_100_5.json'), PosixPath('../build/semana06/experiments/random_unordered_list_0.1_0.01_10_1.json'), PosixPath('../build/semana06/experiments/random_unordered_list_0.1_0.01_10_2.json'), PosixPath('../build/semana06/experiments/random_unordered_list_0.1_0.01_10_3.json'), PosixPath('../build/semana06/experiments/random_unordered_list_0.1_0.01_10_4.json'), PosixPath('../build/semana06/experiments/random_unordered_list_0.1_0.01_10_5.json')]\n"
     ]
    }
   ],
   "source": [
    "df = read_jsons()\n",
    "default_palette = sns.color_palette(\"Dark2\")\n",
    "\n",
    "\n",
    "hue_categories = df.container.unique()  \n",
    "hue_colors = {category: color for category, color in zip(hue_categories, default_palette)}\n"
   ]
  },
  {
   "cell_type": "code",
   "execution_count": 12,
   "metadata": {},
   "outputs": [
    {
     "name": "stdout",
     "output_type": "stream",
     "text": [
      "[PosixPath('../build/semana06/experiments/random_binary_tree_0.1_0.01_1000000_1.json'), PosixPath('../build/semana06/experiments/random_binary_tree_0.1_0.01_1000000_2.json'), PosixPath('../build/semana06/experiments/random_binary_tree_0.1_0.01_1000000_3.json'), PosixPath('../build/semana06/experiments/random_binary_tree_0.1_0.01_1000000_4.json'), PosixPath('../build/semana06/experiments/random_binary_tree_0.1_0.01_1000000_5.json'), PosixPath('../build/semana06/experiments/random_binary_tree_0.1_0.01_100000_1.json'), PosixPath('../build/semana06/experiments/random_binary_tree_0.1_0.01_100000_2.json'), PosixPath('../build/semana06/experiments/random_binary_tree_0.1_0.01_100000_3.json'), PosixPath('../build/semana06/experiments/random_binary_tree_0.1_0.01_100000_4.json'), PosixPath('../build/semana06/experiments/random_binary_tree_0.1_0.01_100000_5.json'), PosixPath('../build/semana06/experiments/random_binary_tree_0.1_0.01_10000_1.json'), PosixPath('../build/semana06/experiments/random_binary_tree_0.1_0.01_10000_2.json'), PosixPath('../build/semana06/experiments/random_binary_tree_0.1_0.01_10000_3.json'), PosixPath('../build/semana06/experiments/random_binary_tree_0.1_0.01_10000_4.json'), PosixPath('../build/semana06/experiments/random_binary_tree_0.1_0.01_10000_5.json'), PosixPath('../build/semana06/experiments/random_binary_tree_0.1_0.01_1000_1.json'), PosixPath('../build/semana06/experiments/random_binary_tree_0.1_0.01_1000_2.json'), PosixPath('../build/semana06/experiments/random_binary_tree_0.1_0.01_1000_3.json'), PosixPath('../build/semana06/experiments/random_binary_tree_0.1_0.01_1000_4.json'), PosixPath('../build/semana06/experiments/random_binary_tree_0.1_0.01_1000_5.json'), PosixPath('../build/semana06/experiments/random_binary_tree_0.1_0.01_100_1.json'), PosixPath('../build/semana06/experiments/random_binary_tree_0.1_0.01_100_2.json'), PosixPath('../build/semana06/experiments/random_binary_tree_0.1_0.01_100_3.json'), PosixPath('../build/semana06/experiments/random_binary_tree_0.1_0.01_100_4.json'), PosixPath('../build/semana06/experiments/random_binary_tree_0.1_0.01_100_5.json'), PosixPath('../build/semana06/experiments/random_binary_tree_0.1_0.01_10_1.json'), PosixPath('../build/semana06/experiments/random_binary_tree_0.1_0.01_10_2.json'), PosixPath('../build/semana06/experiments/random_binary_tree_0.1_0.01_10_3.json'), PosixPath('../build/semana06/experiments/random_binary_tree_0.1_0.01_10_4.json'), PosixPath('../build/semana06/experiments/random_binary_tree_0.1_0.01_10_5.json'), PosixPath('../build/semana06/experiments/random_list_0.1_0.01_1000000_1.json'), PosixPath('../build/semana06/experiments/random_list_0.1_0.01_1000000_2.json'), PosixPath('../build/semana06/experiments/random_list_0.1_0.01_1000000_3.json'), PosixPath('../build/semana06/experiments/random_list_0.1_0.01_1000000_4.json'), PosixPath('../build/semana06/experiments/random_list_0.1_0.01_1000000_5.json'), PosixPath('../build/semana06/experiments/random_list_0.1_0.01_100000_1.json'), PosixPath('../build/semana06/experiments/random_list_0.1_0.01_100000_2.json'), PosixPath('../build/semana06/experiments/random_list_0.1_0.01_100000_3.json'), PosixPath('../build/semana06/experiments/random_list_0.1_0.01_100000_4.json'), PosixPath('../build/semana06/experiments/random_list_0.1_0.01_100000_5.json'), PosixPath('../build/semana06/experiments/random_list_0.1_0.01_10000_1.json'), PosixPath('../build/semana06/experiments/random_list_0.1_0.01_10000_2.json'), PosixPath('../build/semana06/experiments/random_list_0.1_0.01_10000_3.json'), PosixPath('../build/semana06/experiments/random_list_0.1_0.01_10000_4.json'), PosixPath('../build/semana06/experiments/random_list_0.1_0.01_10000_5.json'), PosixPath('../build/semana06/experiments/random_list_0.1_0.01_1000_1.json'), PosixPath('../build/semana06/experiments/random_list_0.1_0.01_1000_2.json'), PosixPath('../build/semana06/experiments/random_list_0.1_0.01_1000_3.json'), PosixPath('../build/semana06/experiments/random_list_0.1_0.01_1000_4.json'), PosixPath('../build/semana06/experiments/random_list_0.1_0.01_1000_5.json'), PosixPath('../build/semana06/experiments/random_list_0.1_0.01_100_1.json'), PosixPath('../build/semana06/experiments/random_list_0.1_0.01_100_2.json'), PosixPath('../build/semana06/experiments/random_list_0.1_0.01_100_3.json'), PosixPath('../build/semana06/experiments/random_list_0.1_0.01_100_4.json'), PosixPath('../build/semana06/experiments/random_list_0.1_0.01_100_5.json'), PosixPath('../build/semana06/experiments/random_list_0.1_0.01_10_1.json'), PosixPath('../build/semana06/experiments/random_list_0.1_0.01_10_2.json'), PosixPath('../build/semana06/experiments/random_list_0.1_0.01_10_3.json'), PosixPath('../build/semana06/experiments/random_list_0.1_0.01_10_4.json'), PosixPath('../build/semana06/experiments/random_list_0.1_0.01_10_5.json'), PosixPath('../build/semana06/experiments/random_unordered_list_0.1_0.01_1000000_1.json'), PosixPath('../build/semana06/experiments/random_unordered_list_0.1_0.01_1000000_2.json'), PosixPath('../build/semana06/experiments/random_unordered_list_0.1_0.01_1000000_3.json'), PosixPath('../build/semana06/experiments/random_unordered_list_0.1_0.01_1000000_4.json'), PosixPath('../build/semana06/experiments/random_unordered_list_0.1_0.01_1000000_5.json'), PosixPath('../build/semana06/experiments/random_unordered_list_0.1_0.01_100000_1.json'), PosixPath('../build/semana06/experiments/random_unordered_list_0.1_0.01_100000_2.json'), PosixPath('../build/semana06/experiments/random_unordered_list_0.1_0.01_100000_3.json'), PosixPath('../build/semana06/experiments/random_unordered_list_0.1_0.01_100000_4.json'), PosixPath('../build/semana06/experiments/random_unordered_list_0.1_0.01_100000_5.json'), PosixPath('../build/semana06/experiments/random_unordered_list_0.1_0.01_10000_1.json'), PosixPath('../build/semana06/experiments/random_unordered_list_0.1_0.01_10000_2.json'), PosixPath('../build/semana06/experiments/random_unordered_list_0.1_0.01_10000_3.json'), PosixPath('../build/semana06/experiments/random_unordered_list_0.1_0.01_10000_4.json'), PosixPath('../build/semana06/experiments/random_unordered_list_0.1_0.01_10000_5.json'), PosixPath('../build/semana06/experiments/random_unordered_list_0.1_0.01_1000_1.json'), PosixPath('../build/semana06/experiments/random_unordered_list_0.1_0.01_1000_2.json'), PosixPath('../build/semana06/experiments/random_unordered_list_0.1_0.01_1000_3.json'), PosixPath('../build/semana06/experiments/random_unordered_list_0.1_0.01_1000_4.json'), PosixPath('../build/semana06/experiments/random_unordered_list_0.1_0.01_1000_5.json'), PosixPath('../build/semana06/experiments/random_unordered_list_0.1_0.01_100_1.json'), PosixPath('../build/semana06/experiments/random_unordered_list_0.1_0.01_100_2.json'), PosixPath('../build/semana06/experiments/random_unordered_list_0.1_0.01_100_3.json'), PosixPath('../build/semana06/experiments/random_unordered_list_0.1_0.01_100_4.json'), PosixPath('../build/semana06/experiments/random_unordered_list_0.1_0.01_100_5.json'), PosixPath('../build/semana06/experiments/random_unordered_list_0.1_0.01_10_1.json'), PosixPath('../build/semana06/experiments/random_unordered_list_0.1_0.01_10_2.json'), PosixPath('../build/semana06/experiments/random_unordered_list_0.1_0.01_10_3.json'), PosixPath('../build/semana06/experiments/random_unordered_list_0.1_0.01_10_4.json'), PosixPath('../build/semana06/experiments/random_unordered_list_0.1_0.01_10_5.json')]\n"
     ]
    }
   ],
   "source": [
    "df = read_jsons()"
   ]
  },
  {
   "cell_type": "code",
   "execution_count": 13,
   "metadata": {},
   "outputs": [
    {
     "data": {
      "text/html": [
       "<div>\n",
       "<style scoped>\n",
       "    .dataframe tbody tr th:only-of-type {\n",
       "        vertical-align: middle;\n",
       "    }\n",
       "\n",
       "    .dataframe tbody tr th {\n",
       "        vertical-align: top;\n",
       "    }\n",
       "\n",
       "    .dataframe thead th {\n",
       "        text-align: right;\n",
       "    }\n",
       "</style>\n",
       "<table border=\"1\" class=\"dataframe\">\n",
       "  <thead>\n",
       "    <tr style=\"text-align: right;\">\n",
       "      <th></th>\n",
       "      <th>n</th>\n",
       "      <th>time</th>\n",
       "      <th>container</th>\n",
       "      <th>length</th>\n",
       "      <th>length_std</th>\n",
       "      <th>segments</th>\n",
       "      <th>intersections</th>\n",
       "    </tr>\n",
       "  </thead>\n",
       "  <tbody>\n",
       "    <tr>\n",
       "      <th>0</th>\n",
       "      <td>1000000</td>\n",
       "      <td>0.527828</td>\n",
       "      <td>binary_tree</td>\n",
       "      <td>0.1</td>\n",
       "      <td>0.1</td>\n",
       "      <td>NaN</td>\n",
       "      <td>NaN</td>\n",
       "    </tr>\n",
       "    <tr>\n",
       "      <th>1</th>\n",
       "      <td>1000000</td>\n",
       "      <td>0.534454</td>\n",
       "      <td>binary_tree</td>\n",
       "      <td>0.1</td>\n",
       "      <td>0.1</td>\n",
       "      <td>NaN</td>\n",
       "      <td>NaN</td>\n",
       "    </tr>\n",
       "    <tr>\n",
       "      <th>2</th>\n",
       "      <td>1000000</td>\n",
       "      <td>0.532882</td>\n",
       "      <td>binary_tree</td>\n",
       "      <td>0.1</td>\n",
       "      <td>0.1</td>\n",
       "      <td>NaN</td>\n",
       "      <td>NaN</td>\n",
       "    </tr>\n",
       "    <tr>\n",
       "      <th>3</th>\n",
       "      <td>1000000</td>\n",
       "      <td>0.530638</td>\n",
       "      <td>binary_tree</td>\n",
       "      <td>0.1</td>\n",
       "      <td>0.1</td>\n",
       "      <td>NaN</td>\n",
       "      <td>NaN</td>\n",
       "    </tr>\n",
       "    <tr>\n",
       "      <th>4</th>\n",
       "      <td>1000000</td>\n",
       "      <td>0.539003</td>\n",
       "      <td>binary_tree</td>\n",
       "      <td>0.1</td>\n",
       "      <td>0.1</td>\n",
       "      <td>NaN</td>\n",
       "      <td>NaN</td>\n",
       "    </tr>\n",
       "    <tr>\n",
       "      <th>...</th>\n",
       "      <td>...</td>\n",
       "      <td>...</td>\n",
       "      <td>...</td>\n",
       "      <td>...</td>\n",
       "      <td>...</td>\n",
       "      <td>...</td>\n",
       "      <td>...</td>\n",
       "    </tr>\n",
       "    <tr>\n",
       "      <th>85</th>\n",
       "      <td>10</td>\n",
       "      <td>0.000011</td>\n",
       "      <td>unordered_list</td>\n",
       "      <td>0.1</td>\n",
       "      <td>0.1</td>\n",
       "      <td>[[0.000481502346, 0.580234509, 0.0924431209, 0...</td>\n",
       "      <td>[[5, 2]]</td>\n",
       "    </tr>\n",
       "    <tr>\n",
       "      <th>86</th>\n",
       "      <td>10</td>\n",
       "      <td>0.000012</td>\n",
       "      <td>unordered_list</td>\n",
       "      <td>0.1</td>\n",
       "      <td>0.1</td>\n",
       "      <td>[[0.530771961, 0.465493364, 0.730218661, 0.378...</td>\n",
       "      <td>[]</td>\n",
       "    </tr>\n",
       "    <tr>\n",
       "      <th>87</th>\n",
       "      <td>10</td>\n",
       "      <td>0.000010</td>\n",
       "      <td>unordered_list</td>\n",
       "      <td>0.1</td>\n",
       "      <td>0.1</td>\n",
       "      <td>[[0.380261133, 0.655655567, 0.504672508, 0.958...</td>\n",
       "      <td>[[5, 1]]</td>\n",
       "    </tr>\n",
       "    <tr>\n",
       "      <th>88</th>\n",
       "      <td>10</td>\n",
       "      <td>0.000010</td>\n",
       "      <td>unordered_list</td>\n",
       "      <td>0.1</td>\n",
       "      <td>0.1</td>\n",
       "      <td>[[0.653163723, 0.635836523, 0.716835815, 0.768...</td>\n",
       "      <td>[]</td>\n",
       "    </tr>\n",
       "    <tr>\n",
       "      <th>89</th>\n",
       "      <td>10</td>\n",
       "      <td>0.000013</td>\n",
       "      <td>unordered_list</td>\n",
       "      <td>0.1</td>\n",
       "      <td>0.1</td>\n",
       "      <td>[[0.402411906, 0.523895039, 0.501972719, 0.348...</td>\n",
       "      <td>[]</td>\n",
       "    </tr>\n",
       "  </tbody>\n",
       "</table>\n",
       "<p>90 rows × 7 columns</p>\n",
       "</div>"
      ],
      "text/plain": [
       "          n      time       container  length  length_std  \\\n",
       "0   1000000  0.527828     binary_tree     0.1         0.1   \n",
       "1   1000000  0.534454     binary_tree     0.1         0.1   \n",
       "2   1000000  0.532882     binary_tree     0.1         0.1   \n",
       "3   1000000  0.530638     binary_tree     0.1         0.1   \n",
       "4   1000000  0.539003     binary_tree     0.1         0.1   \n",
       "..      ...       ...             ...     ...         ...   \n",
       "85       10  0.000011  unordered_list     0.1         0.1   \n",
       "86       10  0.000012  unordered_list     0.1         0.1   \n",
       "87       10  0.000010  unordered_list     0.1         0.1   \n",
       "88       10  0.000010  unordered_list     0.1         0.1   \n",
       "89       10  0.000013  unordered_list     0.1         0.1   \n",
       "\n",
       "                                             segments intersections  \n",
       "0                                                 NaN           NaN  \n",
       "1                                                 NaN           NaN  \n",
       "2                                                 NaN           NaN  \n",
       "3                                                 NaN           NaN  \n",
       "4                                                 NaN           NaN  \n",
       "..                                                ...           ...  \n",
       "85  [[0.000481502346, 0.580234509, 0.0924431209, 0...      [[5, 2]]  \n",
       "86  [[0.530771961, 0.465493364, 0.730218661, 0.378...            []  \n",
       "87  [[0.380261133, 0.655655567, 0.504672508, 0.958...      [[5, 1]]  \n",
       "88  [[0.653163723, 0.635836523, 0.716835815, 0.768...            []  \n",
       "89  [[0.402411906, 0.523895039, 0.501972719, 0.348...            []  \n",
       "\n",
       "[90 rows x 7 columns]"
      ]
     },
     "execution_count": 13,
     "metadata": {},
     "output_type": "execute_result"
    }
   ],
   "source": [
    "df"
   ]
  },
  {
   "cell_type": "code",
   "execution_count": null,
   "metadata": {},
   "outputs": [],
   "source": []
  },
  {
   "cell_type": "code",
   "execution_count": 15,
   "metadata": {},
   "outputs": [
    {
     "data": {
      "image/png": "[encoded data removed]",
      "text/plain": [
       "<Figure size 640x480 with 1 Axes>"
      ]
     },
     "metadata": {},
     "output_type": "display_data"
    }
   ],
   "source": [
    "fig, ax = plt.subplots(1, 1)\n",
    "sns.set_theme(style=\"whitegrid\")\n",
    "sns.lineplot(data=df, x=\"n\", y=\"time\", ax=ax, hue=\"container\") #, palette=hue_colors)\n",
    "\n",
    "ax.set(xscale=\"log\", yscale=\"log\")\n",
    "\n",
    "xs = [100, 1000]; ys = [1e-1, 1e+1]\n",
    "ax.plot(xs, ys, color=\"black\", linestyle=\"dashed\", linewidth=1)\n",
    "ax.text(xs[-1], ys[-1], \"$O(n^{2})$\", fontsize=12, verticalalignment=\"bottom\")\n",
    "\n",
    "\n",
    "xs = [100, 1000]; ys = [1e-5, 1e-4]\n",
    "ax.plot(xs, ys, color=\"black\", linestyle=\"dashed\", linewidth=1)\n",
    "ax.text(xs[-1], ys[-1], \"$O(n)$\", fontsize=12, verticalalignment=\"bottom\")\n",
    "\n",
    "xs = [math.pow(10, i) for i in range(1, 7)]\n",
    "ys = [x*math.log(x)/10000000 for x in xs]\n",
    "# ax.plot(xs, ys, color=\"black\", linestyle=\"dashed\", linewidth=1)\n",
    "# ax.text(xs[-1], ys[-1], \"$O(nlog(n))$\", fontsize=12, verticalalignment=\"bottom\")\n",
    "plt.show()"
   ]
  }
 ],
 "metadata": {
  "kernelspec": {
   "display_name": "Python 3",
   "language": "python",
   "name": "python3"
  },
  "language_info": {
   "codemirror_mode": {
    "name": "ipython",
    "version": 3
   },
   "file_extension": ".py",
   "mimetype": "text/x-python",
   "name": "python",
   "nbconvert_exporter": "python",
   "pygments_lexer": "ipython3",
   "version": "3.10.12"
  },
  "orig_nbformat": 4
 },
 "nbformat": 4,
 "nbformat_minor": 2
}
